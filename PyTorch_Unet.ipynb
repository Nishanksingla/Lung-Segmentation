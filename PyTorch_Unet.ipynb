{
 "cells": [
  {
   "cell_type": "code",
   "execution_count": 30,
   "metadata": {},
   "outputs": [],
   "source": [
    "import os\n",
    "import numpy as np\n",
    "\n",
    "import torch\n",
    "import torchvision\n",
    "\n",
    "import torch.nn as nn\n",
    "import torch.nn.functional as F\n",
    "import torch.optim as optim\n",
    "\n",
    "from torch.utils.data import DataLoader, Dataset\n",
    "from torchvision import transforms\n",
    "import matplotlib.pyplot as plt\n",
    "\n",
    "import torchvision.transforms.functional as TF\n",
    "\n",
    "%matplotlib inline"
   ]
  },
  {
   "cell_type": "code",
   "execution_count": 31,
   "metadata": {},
   "outputs": [],
   "source": [
    "# image processing package\n",
    "from PIL import Image, ImageOps\n",
    "import numpy as np"
   ]
  },
  {
   "cell_type": "markdown",
   "metadata": {},
   "source": [
    "### Torch dice score"
   ]
  },
  {
   "cell_type": "code",
   "execution_count": 32,
   "metadata": {},
   "outputs": [],
   "source": [
    "y_true = torch.ones((5,3,256,256))"
   ]
  },
  {
   "cell_type": "code",
   "execution_count": 33,
   "metadata": {},
   "outputs": [
    {
     "data": {
      "text/plain": [
       "torch.Size([5, 3, 256, 256])"
      ]
     },
     "execution_count": 33,
     "metadata": {},
     "output_type": "execute_result"
    }
   ],
   "source": [
    "y_true.shape"
   ]
  },
  {
   "cell_type": "code",
   "execution_count": 6,
   "metadata": {},
   "outputs": [],
   "source": [
    "y_true_flatten = y_true.view(-1)"
   ]
  },
  {
   "cell_type": "code",
   "execution_count": 9,
   "metadata": {},
   "outputs": [
    {
     "data": {
      "text/plain": [
       "torch.Size([983040])"
      ]
     },
     "execution_count": 9,
     "metadata": {},
     "output_type": "execute_result"
    }
   ],
   "source": [
    "y_true_flatten.shape"
   ]
  },
  {
   "cell_type": "code",
   "execution_count": 15,
   "metadata": {},
   "outputs": [],
   "source": [
    "y_pred = torch.randn((5,3,256,256))"
   ]
  },
  {
   "cell_type": "code",
   "execution_count": 18,
   "metadata": {},
   "outputs": [],
   "source": [
    "y_pred[y_pred<0] = 0"
   ]
  },
  {
   "cell_type": "code",
   "execution_count": 21,
   "metadata": {},
   "outputs": [],
   "source": [
    "y_pred_flatten = y_pred.view(-1)"
   ]
  },
  {
   "cell_type": "code",
   "execution_count": 23,
   "metadata": {},
   "outputs": [],
   "source": [
    "intersection = 2 * torch.sum(y_true_flatten * y_pred_flatten)"
   ]
  },
  {
   "cell_type": "code",
   "execution_count": 24,
   "metadata": {},
   "outputs": [],
   "source": [
    "union = torch.sum(y_true_flatten) + torch.sum(y_pred_flatten)"
   ]
  },
  {
   "cell_type": "code",
   "execution_count": 25,
   "metadata": {},
   "outputs": [
    {
     "data": {
      "text/plain": [
       "tensor(1375389.7500)"
      ]
     },
     "execution_count": 25,
     "metadata": {},
     "output_type": "execute_result"
    }
   ],
   "source": [
    "union"
   ]
  },
  {
   "cell_type": "code",
   "execution_count": 27,
   "metadata": {},
   "outputs": [
    {
     "data": {
      "text/plain": [
       "tensor(0.5705)"
      ]
     },
     "execution_count": 27,
     "metadata": {},
     "output_type": "execute_result"
    }
   ],
   "source": [
    "(intersection+1)/(union+1)"
   ]
  },
  {
   "cell_type": "markdown",
   "metadata": {},
   "source": [
    "## Model Architecture"
   ]
  },
  {
   "cell_type": "code",
   "execution_count": 54,
   "metadata": {},
   "outputs": [],
   "source": [
    "class LungSegmentationNet(nn.Module):\n",
    "    def __init__(self, depth=5, root_filter=64):\n",
    "        super(LungSegmentationNet, self).__init__()\n",
    "        self.depth = depth\n",
    "        self.root_filter = root_filter\n",
    "        print(\"depth: {}, root filter: {}\".format(self.depth, self.root_filter))\n",
    "    \n",
    "    # Down sampling\n",
    "    def forward(self, x):\n",
    "        long_connection_store = {}\n",
    "        input_channels = 1\n",
    "        print(\"UP SAMPLING\")\n",
    "        for i in range(self.depth):\n",
    "            out_channel = 2**i * self.root_filter\n",
    "            print(out_channel)\n",
    "            x = F.relu(nn.Conv2d(input_channels, out_channel, 3, padding=1)(x))\n",
    "            x = F.relu(nn.Conv2d(out_channel, out_channel, 3, padding=1)(x))\n",
    "\n",
    "            if i<self.depth-1:\n",
    "                long_connection_store[str(i)] = x\n",
    "                x = F.max_pool2d(x, kernel_size=2)\n",
    "            input_channels = out_channel\n",
    "\n",
    "        print(\"x.shape: {}\".format(x.shape))\n",
    "        print(\"DOWN SAMPLING\")\n",
    "        \n",
    "        for i in range(self.depth - 2, -1, -1):\n",
    "            out_channel = 2**(i) * self.root_filter\n",
    "            print(\"input_channels: {}\".format(input_channels))\n",
    "            print(\"out_channel: {}\".format(out_channel))\n",
    "            \n",
    "            # long connection from down sampling path.\n",
    "            long_connection = long_connection_store[str(i)]\n",
    "            print(\"long_connection shape: {}\".format(long_connection.shape))\n",
    "            \n",
    "            up1 = nn.Upsample(scale_factor=2)(x)\n",
    "            print(\"up1 shape: {}\".format(up1.shape))\n",
    "            \n",
    "            up_conv1 = F.relu(nn.Conv2d(input_channels, out_channel, 3, padding=1)(up1))\n",
    "            print(\"upsamplingConv : {}\".format(up_conv1.shape))\n",
    "            \n",
    "            up_conc = torch.cat((up_conv1, long_connection), dim=1)\n",
    "            print(\"up_conc : {}\\n\".format(up_conc.shape))\n",
    "            \n",
    "            #  Convolutions\n",
    "            up_conv1 = F.relu(nn.Conv2d(input_channels, out_channel, 3, padding=1)(up_conc))\n",
    "            up_conv2 = F.relu(nn.Conv2d(out_channel, out_channel, 3, padding=1)(up_conv1))\n",
    "\n",
    "            x = up_conv2\n",
    "            input_channels = out_channel\n",
    "        print(\"FINAL shape: {}\".format(x.shape))\n",
    "        x = F.sigmoid(nn.Conv2d(input_channels, 1, 1, padding=0)(x))\n",
    "        print(\"FINAL shape: {}\".format(x.shape))\n",
    "        return x\n",
    "    \n"
   ]
  },
  {
   "cell_type": "code",
   "execution_count": 55,
   "metadata": {},
   "outputs": [
    {
     "name": "stdout",
     "output_type": "stream",
     "text": [
      "depth: 5, root filter: 64\n"
     ]
    }
   ],
   "source": [
    "unet = LungSegmentationNet(5, 64)"
   ]
  },
  {
   "cell_type": "code",
   "execution_count": 61,
   "metadata": {},
   "outputs": [
    {
     "data": {
      "text/plain": [
       "[]"
      ]
     },
     "execution_count": 61,
     "metadata": {},
     "output_type": "execute_result"
    }
   ],
   "source": [
    "list(unet.parameters())"
   ]
  },
  {
   "cell_type": "code",
   "execution_count": 56,
   "metadata": {},
   "outputs": [],
   "source": [
    "for p in unet.parameters():\n",
    "    print(p)"
   ]
  },
  {
   "cell_type": "code",
   "execution_count": 57,
   "metadata": {},
   "outputs": [],
   "source": [
    "batch_size = 5\n",
    "channels = 1\n",
    "height = 256\n",
    "width = 256"
   ]
  },
  {
   "cell_type": "code",
   "execution_count": 58,
   "metadata": {},
   "outputs": [],
   "source": [
    "image = torch.randn(batch_size, channels, height, width)"
   ]
  },
  {
   "cell_type": "code",
   "execution_count": 59,
   "metadata": {},
   "outputs": [
    {
     "data": {
      "text/plain": [
       "torch.Size([5, 1, 256, 256])"
      ]
     },
     "execution_count": 59,
     "metadata": {},
     "output_type": "execute_result"
    }
   ],
   "source": [
    "image.shape"
   ]
  },
  {
   "cell_type": "code",
   "execution_count": 60,
   "metadata": {
    "scrolled": true
   },
   "outputs": [
    {
     "name": "stdout",
     "output_type": "stream",
     "text": [
      "UP SAMPLING\n",
      "64\n",
      "128\n",
      "256\n",
      "512\n",
      "1024\n",
      "x.shape: torch.Size([5, 1024, 16, 16])\n",
      "DOWN SAMPLING\n",
      "input_channels: 1024\n",
      "out_channel: 512\n",
      "long_connection shape: torch.Size([5, 512, 32, 32])\n",
      "up1 shape: torch.Size([5, 1024, 32, 32])\n",
      "upsamplingConv : torch.Size([5, 512, 32, 32])\n",
      "up_conc : torch.Size([5, 1024, 32, 32])\n",
      "\n",
      "input_channels: 512\n",
      "out_channel: 256\n",
      "long_connection shape: torch.Size([5, 256, 64, 64])\n",
      "up1 shape: torch.Size([5, 512, 64, 64])\n",
      "upsamplingConv : torch.Size([5, 256, 64, 64])\n",
      "up_conc : torch.Size([5, 512, 64, 64])\n",
      "\n",
      "input_channels: 256\n",
      "out_channel: 128\n",
      "long_connection shape: torch.Size([5, 128, 128, 128])\n",
      "up1 shape: torch.Size([5, 256, 128, 128])\n",
      "upsamplingConv : torch.Size([5, 128, 128, 128])\n",
      "up_conc : torch.Size([5, 256, 128, 128])\n",
      "\n",
      "input_channels: 128\n",
      "out_channel: 64\n",
      "long_connection shape: torch.Size([5, 64, 256, 256])\n",
      "up1 shape: torch.Size([5, 128, 256, 256])\n",
      "upsamplingConv : torch.Size([5, 64, 256, 256])\n",
      "up_conc : torch.Size([5, 128, 256, 256])\n",
      "\n",
      "FINAL shape: torch.Size([5, 64, 256, 256])\n",
      "FINAL shape: torch.Size([5, 1, 256, 256])\n"
     ]
    },
    {
     "name": "stderr",
     "output_type": "stream",
     "text": [
      "/Users/212633113/Desktop/GE_HealthCare/Experiments/venv/lib/python3.7/site-packages/torch/nn/functional.py:1351: UserWarning: nn.functional.sigmoid is deprecated. Use torch.sigmoid instead.\n",
      "  warnings.warn(\"nn.functional.sigmoid is deprecated. Use torch.sigmoid instead.\")\n"
     ]
    }
   ],
   "source": [
    "output = unet(image)"
   ]
  },
  {
   "cell_type": "code",
   "execution_count": null,
   "metadata": {
    "scrolled": true
   },
   "outputs": [],
   "source": [
    "# from torchvision import models\n",
    "# model = models.vgg16()\n",
    "# print(model)"
   ]
  },
  {
   "cell_type": "markdown",
   "metadata": {},
   "source": [
    "# Dataset Generator"
   ]
  },
  {
   "cell_type": "code",
   "execution_count": 41,
   "metadata": {},
   "outputs": [],
   "source": [
    "# PyTorch is channel first instead of channel last as in Keras\n",
    "class LungSegmentationDataGen(Dataset):\n",
    "    def __init__(self, dataset, root_dir, args, transforms=None):\n",
    "        self.dataset = dataset\n",
    "        self.root_dir = root_dir\n",
    "        self.args = args\n",
    "    \n",
    "    def __len__(self):\n",
    "        return len(self.dataset)\n",
    "    \n",
    "    def preprocess_image(self, path):\n",
    "        im = Image.open(path)\n",
    "        im = ImageOps.grayscale(im)\n",
    "        im = im.resize((self.args.height, self.args.width))  # parameterize height and width\n",
    "        img = np.array(im)\n",
    "        img = img/255.\n",
    "        return img\n",
    "    \n",
    "    def __getitem__(self, idx):\n",
    "        sample = self.dataset[idx]\n",
    "        img_name, mask_name = sample.rstrip().split(\",\")\n",
    "        \n",
    "        image = self.preprocess_image(os.path.join(self.root_dir, \"images\", img_name))\n",
    "        mask = self.preprocess_image(os.path.join(self.root_dir, \"masks\", mask_name))\n",
    "        \n",
    "        # Use albumentation package for augmenting images and mask with same transformations\n",
    "        \n",
    "        return torch.from_numpy(image), torch.from_numpy(mask)\n",
    "        "
   ]
  },
  {
   "cell_type": "code",
   "execution_count": 42,
   "metadata": {},
   "outputs": [],
   "source": [
    "def dice_loss(y_true, y_pred):\n",
    "    smooth = 1\n",
    "    y_true_flatten = y_true.view(-1)\n",
    "    y_pred_flatten = y_pred.view(-1)\n",
    "    intersection = 2 * torch.sum(y_true_flatten * y_pred_flatten)\n",
    "    union = torch.sum(y_true_flatten) + torch.sum(y_pred_flatten)\n",
    "    dice_score = (intersection + smooth)/(union + smooth)\n",
    "    return dice_score"
   ]
  },
  {
   "cell_type": "code",
   "execution_count": 43,
   "metadata": {},
   "outputs": [],
   "source": [
    "def dice_loss(y_true, y_pred):\n",
    "    return 1 - dice_score(y_true, y_pred)"
   ]
  },
  {
   "cell_type": "code",
   "execution_count": 48,
   "metadata": {},
   "outputs": [],
   "source": [
    "def train(args):\n",
    "    dataset = open(\"dataset.csv\", \"r\").readlines()\n",
    "    train_set = dataset[:600]\n",
    "    val_set = dataset[600:]\n",
    "    root_dir = root_dir = \"data/Lung_Segmentation/\"\n",
    "\n",
    "    train_data = LungSegmentationDataGen(train_set, root_dir, args)\n",
    "    val_data = LungSegmentationDataGen(val_set, root_dir, args)\n",
    "\n",
    "    train_dataloader = DataLoader(train_data, batch_size=5, shuffle=True, num_workers=4)\n",
    "\n",
    "    val_dataloader = DataLoader(val_data, batch_size=5, shuffle=True, num_workers=4)\n",
    "    \n",
    "    dataloaders = {\n",
    "        \"train\": train_dataloader,\n",
    "        \"val\": val_dataloader\n",
    "    }\n",
    "\n",
    "    dataset_sizes = {\"train\": len(train_set), \"val\": len(val_set)}\n",
    "\n",
    "    print(\"dataset_sizes: {}\".format(dataset_sizes))\n",
    "\n",
    "    device = torch.device(\"cuda:0\" if torch.cuda.is_available() else \"cpu\")\n",
    "    \n",
    "    model = LungSegmentationNet()\n",
    "    print(\"MODEL: {}\".format(model))\n",
    "    model = model.to(device)\n",
    "    \n",
    "    # define custom loss function\n",
    "    criterion = dice_loss\n",
    "    \n",
    "    optimizer = optim.Adam(model.parameters())\n",
    "    \n",
    "    loss_train = []\n",
    "    loss_valid = []\n",
    "    step = 0\n",
    "    \n",
    "    for epoch in range(args.epochs):\n",
    "        print('Epoch {}/{}'.format(epoch, args.epochs - 1))\n",
    "        print('-' * 10)\n",
    "        \n",
    "        for phase in ['train', 'val']:\n",
    "            if phase == 'train':\n",
    "                model.train()  # Set model to training mode\n",
    "            else:\n",
    "                model.eval()   # Set model to evaluate mode\n",
    "\n",
    "            running_loss = 0.0\n",
    "            running_corrects = 0\n",
    "\n",
    "            # Iterate over data.\n",
    "            for i, data in enumerate(dataloaders[phase]):\n",
    "                if phase == \"train\":\n",
    "                    step += 1\n",
    "                inputs, y_true = data\n",
    "                inputs = inputs.to(device)\n",
    "                y_true = y_true.to(device)\n",
    "                \n",
    "                # zero the parameter gradients\n",
    "                optimizer.zero_grad()\n",
    "                \n",
    "                with torch.set_grad_enabled(phase == 'train'):\n",
    "                    y_pred = model(inputs)\n",
    "                    loss = dice_loss(y_true, y_pred)\n",
    "\n",
    "                    print(\"LOSS: {}\".format(loss))\n",
    "\n",
    "                    # backward + optimize only if in training phase\n",
    "                    if phase == 'train':\n",
    "                        loss_train.append(loss.item())\n",
    "                        loss.backward()\n",
    "                        optimizer.step()\n",
    "                    if phase == \"valid\":\n",
    "                        loss_valid.append(loss.item())\n",
    "                if phase == \"train\" and (step + 1) % 10 == 0:\n",
    "                    print(\"step:{}, train_loss: {}\".format(step, np.mean(loss_train)))\n",
    "                    loss_train = []\n",
    "            if phase == \"valid\":\n",
    "                print(\"step:{}, val_loss: {}\".format(step, np.mean(loss_valid)))\n",
    "                loss_valid = []\n",
    "                "
   ]
  },
  {
   "cell_type": "code",
   "execution_count": 49,
   "metadata": {},
   "outputs": [],
   "source": [
    "args = args= {\n",
    "    \"batch_size\": 2,\n",
    "    \"model_depth\": 5,\n",
    "    \"width\": 256,\n",
    "    \"root_filter_size\": 32,\n",
    "    \"epochs\": 100,\n",
    "    \"height\": 256\n",
    "}"
   ]
  },
  {
   "cell_type": "code",
   "execution_count": 50,
   "metadata": {},
   "outputs": [
    {
     "name": "stdout",
     "output_type": "stream",
     "text": [
      "dataset_sizes: {'train': 600, 'val': 104}\n",
      "depth: 5, root filter: 64\n",
      "MODEL: LungSegmentationNet()\n"
     ]
    },
    {
     "ename": "ValueError",
     "evalue": "optimizer got an empty parameter list",
     "output_type": "error",
     "traceback": [
      "\u001b[0;31m---------------------------------------------------------------------------\u001b[0m",
      "\u001b[0;31mValueError\u001b[0m                                Traceback (most recent call last)",
      "\u001b[0;32m<ipython-input-50-aad596905035>\u001b[0m in \u001b[0;36m<module>\u001b[0;34m\u001b[0m\n\u001b[0;32m----> 1\u001b[0;31m \u001b[0mtrain\u001b[0m\u001b[0;34m(\u001b[0m\u001b[0margs\u001b[0m\u001b[0;34m)\u001b[0m\u001b[0;34m\u001b[0m\u001b[0m\n\u001b[0m",
      "\u001b[0;32m<ipython-input-48-fb24096b556c>\u001b[0m in \u001b[0;36mtrain\u001b[0;34m(args)\u001b[0m\n\u001b[1;32m     30\u001b[0m     \u001b[0mcriterion\u001b[0m \u001b[0;34m=\u001b[0m \u001b[0mdice_loss\u001b[0m\u001b[0;34m\u001b[0m\u001b[0m\n\u001b[1;32m     31\u001b[0m \u001b[0;34m\u001b[0m\u001b[0m\n\u001b[0;32m---> 32\u001b[0;31m     \u001b[0moptimizer\u001b[0m \u001b[0;34m=\u001b[0m \u001b[0moptim\u001b[0m\u001b[0;34m.\u001b[0m\u001b[0mAdam\u001b[0m\u001b[0;34m(\u001b[0m\u001b[0mmodel\u001b[0m\u001b[0;34m.\u001b[0m\u001b[0mparameters\u001b[0m\u001b[0;34m(\u001b[0m\u001b[0;34m)\u001b[0m\u001b[0;34m)\u001b[0m\u001b[0;34m\u001b[0m\u001b[0m\n\u001b[0m\u001b[1;32m     33\u001b[0m \u001b[0;34m\u001b[0m\u001b[0m\n\u001b[1;32m     34\u001b[0m     \u001b[0mloss_train\u001b[0m \u001b[0;34m=\u001b[0m \u001b[0;34m[\u001b[0m\u001b[0;34m]\u001b[0m\u001b[0;34m\u001b[0m\u001b[0m\n",
      "\u001b[0;32m~/Desktop/GE_HealthCare/Experiments/venv/lib/python3.7/site-packages/torch/optim/adam.py\u001b[0m in \u001b[0;36m__init__\u001b[0;34m(self, params, lr, betas, eps, weight_decay, amsgrad)\u001b[0m\n\u001b[1;32m     40\u001b[0m         defaults = dict(lr=lr, betas=betas, eps=eps,\n\u001b[1;32m     41\u001b[0m                         weight_decay=weight_decay, amsgrad=amsgrad)\n\u001b[0;32m---> 42\u001b[0;31m         \u001b[0msuper\u001b[0m\u001b[0;34m(\u001b[0m\u001b[0mAdam\u001b[0m\u001b[0;34m,\u001b[0m \u001b[0mself\u001b[0m\u001b[0;34m)\u001b[0m\u001b[0;34m.\u001b[0m\u001b[0m__init__\u001b[0m\u001b[0;34m(\u001b[0m\u001b[0mparams\u001b[0m\u001b[0;34m,\u001b[0m \u001b[0mdefaults\u001b[0m\u001b[0;34m)\u001b[0m\u001b[0;34m\u001b[0m\u001b[0m\n\u001b[0m\u001b[1;32m     43\u001b[0m \u001b[0;34m\u001b[0m\u001b[0m\n\u001b[1;32m     44\u001b[0m     \u001b[0;32mdef\u001b[0m \u001b[0m__setstate__\u001b[0m\u001b[0;34m(\u001b[0m\u001b[0mself\u001b[0m\u001b[0;34m,\u001b[0m \u001b[0mstate\u001b[0m\u001b[0;34m)\u001b[0m\u001b[0;34m:\u001b[0m\u001b[0;34m\u001b[0m\u001b[0m\n",
      "\u001b[0;32m~/Desktop/GE_HealthCare/Experiments/venv/lib/python3.7/site-packages/torch/optim/optimizer.py\u001b[0m in \u001b[0;36m__init__\u001b[0;34m(self, params, defaults)\u001b[0m\n\u001b[1;32m     44\u001b[0m         \u001b[0mparam_groups\u001b[0m \u001b[0;34m=\u001b[0m \u001b[0mlist\u001b[0m\u001b[0;34m(\u001b[0m\u001b[0mparams\u001b[0m\u001b[0;34m)\u001b[0m\u001b[0;34m\u001b[0m\u001b[0m\n\u001b[1;32m     45\u001b[0m         \u001b[0;32mif\u001b[0m \u001b[0mlen\u001b[0m\u001b[0;34m(\u001b[0m\u001b[0mparam_groups\u001b[0m\u001b[0;34m)\u001b[0m \u001b[0;34m==\u001b[0m \u001b[0;36m0\u001b[0m\u001b[0;34m:\u001b[0m\u001b[0;34m\u001b[0m\u001b[0m\n\u001b[0;32m---> 46\u001b[0;31m             \u001b[0;32mraise\u001b[0m \u001b[0mValueError\u001b[0m\u001b[0;34m(\u001b[0m\u001b[0;34m\"optimizer got an empty parameter list\"\u001b[0m\u001b[0;34m)\u001b[0m\u001b[0;34m\u001b[0m\u001b[0m\n\u001b[0m\u001b[1;32m     47\u001b[0m         \u001b[0;32mif\u001b[0m \u001b[0;32mnot\u001b[0m \u001b[0misinstance\u001b[0m\u001b[0;34m(\u001b[0m\u001b[0mparam_groups\u001b[0m\u001b[0;34m[\u001b[0m\u001b[0;36m0\u001b[0m\u001b[0;34m]\u001b[0m\u001b[0;34m,\u001b[0m \u001b[0mdict\u001b[0m\u001b[0;34m)\u001b[0m\u001b[0;34m:\u001b[0m\u001b[0;34m\u001b[0m\u001b[0m\n\u001b[1;32m     48\u001b[0m             \u001b[0mparam_groups\u001b[0m \u001b[0;34m=\u001b[0m \u001b[0;34m[\u001b[0m\u001b[0;34m{\u001b[0m\u001b[0;34m'params'\u001b[0m\u001b[0;34m:\u001b[0m \u001b[0mparam_groups\u001b[0m\u001b[0;34m}\u001b[0m\u001b[0;34m]\u001b[0m\u001b[0;34m\u001b[0m\u001b[0m\n",
      "\u001b[0;31mValueError\u001b[0m: optimizer got an empty parameter list"
     ]
    }
   ],
   "source": [
    "train(args)"
   ]
  },
  {
   "cell_type": "markdown",
   "metadata": {},
   "source": [
    "## Reading data "
   ]
  },
  {
   "cell_type": "code",
   "execution_count": null,
   "metadata": {},
   "outputs": [],
   "source": [
    "import os\n",
    "root_dir = \"data/Lung_Segmentation/\""
   ]
  },
  {
   "cell_type": "code",
   "execution_count": null,
   "metadata": {},
   "outputs": [],
   "source": [
    "# MCUCXR_0001_0.png\n",
    "# CHNCXR_0001_0.png --- CHNCXR_0001_0_mask.png"
   ]
  },
  {
   "cell_type": "code",
   "execution_count": null,
   "metadata": {},
   "outputs": [],
   "source": [
    "images_list = os.listdir(os.path.join(root_dir, \"images\"))\n",
    "masks_list = os.listdir(os.path.join(root_dir, \"masks\"))"
   ]
  },
  {
   "cell_type": "code",
   "execution_count": null,
   "metadata": {},
   "outputs": [],
   "source": [
    "f = open(\"dataset.csv\", \"w\")\n",
    "count = 0\n",
    "for img in images_list:\n",
    "    img_name = img.split(\".png\")[0]\n",
    "    if img.startswith(\"CHNCXR\"):\n",
    "        mask_name = \"{}_mask.png\".format(img_name)\n",
    "    elif img.startswith(\"MCUCXR\"):\n",
    "        mask_name = img\n",
    "    if os.path.exists(os.path.join(root_dir, \"masks\", mask_name)):\n",
    "        f.write(\"{}, {}\\n\".format(img, mask_name))\n",
    "        count +=1\n",
    "    \n",
    "f.close()      "
   ]
  },
  {
   "cell_type": "code",
   "execution_count": null,
   "metadata": {},
   "outputs": [],
   "source": [
    "dataset = open(\"dataset.csv\", \"r\").readlines()"
   ]
  },
  {
   "cell_type": "code",
   "execution_count": null,
   "metadata": {},
   "outputs": [],
   "source": [
    "len(dataset)"
   ]
  },
  {
   "cell_type": "code",
   "execution_count": null,
   "metadata": {},
   "outputs": [],
   "source": []
  }
 ],
 "metadata": {
  "kernelspec": {
   "display_name": "Python 3",
   "language": "python",
   "name": "python3"
  },
  "language_info": {
   "codemirror_mode": {
    "name": "ipython",
    "version": 3
   },
   "file_extension": ".py",
   "mimetype": "text/x-python",
   "name": "python",
   "nbconvert_exporter": "python",
   "pygments_lexer": "ipython3",
   "version": "3.7.0"
  }
 },
 "nbformat": 4,
 "nbformat_minor": 4
}
